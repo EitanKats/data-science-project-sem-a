{
 "cells": [
  {
   "cell_type": "code",
   "execution_count": 10,
   "metadata": {},
   "outputs": [],
   "source": [
    "import pandas as pd\n",
    "import numpy as np\n",
    "\n",
    "cast_df = pd.read_csv(r'./cast.csv')"
   ]
  },
  {
   "cell_type": "code",
   "execution_count": 144,
   "metadata": {
    "scrolled": false
   },
   "outputs": [
    {
     "name": "stdout",
     "output_type": "stream",
     "text": [
      "<class 'pandas.core.frame.DataFrame'>\n",
      "RangeIndex: 3333695 entries, 0 to 3333694\n",
      "Data columns (total 6 columns):\n",
      " #   Column     Dtype  \n",
      "---  ------     -----  \n",
      " 0   title      object \n",
      " 1   year       int64  \n",
      " 2   name       object \n",
      " 3   type       object \n",
      " 4   character  object \n",
      " 5   n          float64\n",
      "dtypes: float64(1), int64(1), object(4)\n",
      "memory usage: 152.6+ MB\n"
     ]
    }
   ],
   "source": [
    "cast_df.info()"
   ]
  },
  {
   "cell_type": "code",
   "execution_count": 277,
   "metadata": {},
   "outputs": [
    {
     "data": {
      "text/html": [
       "<div>\n",
       "<style scoped>\n",
       "    .dataframe tbody tr th:only-of-type {\n",
       "        vertical-align: middle;\n",
       "    }\n",
       "\n",
       "    .dataframe tbody tr th {\n",
       "        vertical-align: top;\n",
       "    }\n",
       "\n",
       "    .dataframe thead th {\n",
       "        text-align: right;\n",
       "    }\n",
       "</style>\n",
       "<table border=\"1\" class=\"dataframe\">\n",
       "  <thead>\n",
       "    <tr style=\"text-align: right;\">\n",
       "      <th></th>\n",
       "      <th>title</th>\n",
       "      <th>year</th>\n",
       "      <th>name</th>\n",
       "      <th>type</th>\n",
       "      <th>character</th>\n",
       "      <th>n</th>\n",
       "    </tr>\n",
       "  </thead>\n",
       "  <tbody>\n",
       "    <tr>\n",
       "      <th>0</th>\n",
       "      <td>Suuri illusioni</td>\n",
       "      <td>1985</td>\n",
       "      <td>Homo $</td>\n",
       "      <td>actor</td>\n",
       "      <td>Guests</td>\n",
       "      <td>22.0</td>\n",
       "    </tr>\n",
       "    <tr>\n",
       "      <th>1</th>\n",
       "      <td>Gangsta Rap: The Glockumentary</td>\n",
       "      <td>2007</td>\n",
       "      <td>Too $hort</td>\n",
       "      <td>actor</td>\n",
       "      <td>Himself</td>\n",
       "      <td>NaN</td>\n",
       "    </tr>\n",
       "    <tr>\n",
       "      <th>2</th>\n",
       "      <td>Menace II Society</td>\n",
       "      <td>1993</td>\n",
       "      <td>Too $hort</td>\n",
       "      <td>actor</td>\n",
       "      <td>Lew-Loc</td>\n",
       "      <td>27.0</td>\n",
       "    </tr>\n",
       "    <tr>\n",
       "      <th>3</th>\n",
       "      <td>Porndogs: The Adventures of Sadie</td>\n",
       "      <td>2009</td>\n",
       "      <td>Too $hort</td>\n",
       "      <td>actor</td>\n",
       "      <td>Bosco</td>\n",
       "      <td>3.0</td>\n",
       "    </tr>\n",
       "    <tr>\n",
       "      <th>4</th>\n",
       "      <td>Stop Pepper Palmer</td>\n",
       "      <td>2014</td>\n",
       "      <td>Too $hort</td>\n",
       "      <td>actor</td>\n",
       "      <td>Himself</td>\n",
       "      <td>NaN</td>\n",
       "    </tr>\n",
       "    <tr>\n",
       "      <th>5</th>\n",
       "      <td>Townbiz</td>\n",
       "      <td>2010</td>\n",
       "      <td>Too $hort</td>\n",
       "      <td>actor</td>\n",
       "      <td>Himself</td>\n",
       "      <td>NaN</td>\n",
       "    </tr>\n",
       "    <tr>\n",
       "      <th>6</th>\n",
       "      <td>For Thy Love 2</td>\n",
       "      <td>2009</td>\n",
       "      <td>Bee Moe $lim</td>\n",
       "      <td>actor</td>\n",
       "      <td>Thug 1</td>\n",
       "      <td>NaN</td>\n",
       "    </tr>\n",
       "    <tr>\n",
       "      <th>7</th>\n",
       "      <td>Desire (III)</td>\n",
       "      <td>2014</td>\n",
       "      <td>Syaiful 'Ariffin</td>\n",
       "      <td>actor</td>\n",
       "      <td>Actor Playing Eteocles from 'Antigone'</td>\n",
       "      <td>NaN</td>\n",
       "    </tr>\n",
       "    <tr>\n",
       "      <th>8</th>\n",
       "      <td>When the Man Went South</td>\n",
       "      <td>2014</td>\n",
       "      <td>Taipaleti 'Atu'ake</td>\n",
       "      <td>actor</td>\n",
       "      <td>Two Palms - Ua'i Paame</td>\n",
       "      <td>8.0</td>\n",
       "    </tr>\n",
       "    <tr>\n",
       "      <th>9</th>\n",
       "      <td>Little Angel (Angelita)</td>\n",
       "      <td>2015</td>\n",
       "      <td>Michael 'babeepower' Viera</td>\n",
       "      <td>actor</td>\n",
       "      <td>Chico</td>\n",
       "      <td>9.0</td>\n",
       "    </tr>\n",
       "  </tbody>\n",
       "</table>\n",
       "</div>"
      ],
      "text/plain": [
       "                               title  year                        name   type  \\\n",
       "0                    Suuri illusioni  1985                      Homo $  actor   \n",
       "1     Gangsta Rap: The Glockumentary  2007                   Too $hort  actor   \n",
       "2                  Menace II Society  1993                   Too $hort  actor   \n",
       "3  Porndogs: The Adventures of Sadie  2009                   Too $hort  actor   \n",
       "4                 Stop Pepper Palmer  2014                   Too $hort  actor   \n",
       "5                            Townbiz  2010                   Too $hort  actor   \n",
       "6                     For Thy Love 2  2009                Bee Moe $lim  actor   \n",
       "7                       Desire (III)  2014            Syaiful 'Ariffin  actor   \n",
       "8            When the Man Went South  2014          Taipaleti 'Atu'ake  actor   \n",
       "9            Little Angel (Angelita)  2015  Michael 'babeepower' Viera  actor   \n",
       "\n",
       "                                character     n  \n",
       "0                                  Guests  22.0  \n",
       "1                                 Himself   NaN  \n",
       "2                                 Lew-Loc  27.0  \n",
       "3                                   Bosco   3.0  \n",
       "4                                 Himself   NaN  \n",
       "5                                 Himself   NaN  \n",
       "6                                  Thug 1   NaN  \n",
       "7  Actor Playing Eteocles from 'Antigone'   NaN  \n",
       "8                  Two Palms - Ua'i Paame   8.0  \n",
       "9                                   Chico   9.0  "
      ]
     },
     "execution_count": 277,
     "metadata": {},
     "output_type": "execute_result"
    }
   ],
   "source": [
    "cast_df.head(10)"
   ]
  },
  {
   "cell_type": "markdown",
   "metadata": {},
   "source": [
    "# Question 1"
   ]
  },
  {
   "cell_type": "code",
   "execution_count": 123,
   "metadata": {
    "scrolled": true
   },
   "outputs": [
    {
     "data": {
      "text/plain": [
       "array(['Hamlet', 'Hamlet, Prince of Denmark', 'Hamlet 2',\n",
       "       'Hamlet: Prince of Denmark', 'National Theatre Live: Hamlet',\n",
       "       'Hamlet (II)', 'Hamlet A.D.D.', 'Hamlet_X', 'Zombie Hamlet',\n",
       "       'Han, hun og Hamlet', 'Hamlet (III)', 'Hamlet liikemaailmassa',\n",
       "       \"Hamlet's Ghost\", 'Hamlet the Vampire Slayer',\n",
       "       \"Dogg's Hamlet, Cahoot's Macbeth\", 'Hamlet in the Hamptons',\n",
       "       'Hamlet, Son of a Kingpin', 'Harry, Hamlet and I',\n",
       "       'Kitchen Hamlet', 'Green Eggs and Hamlet', 'A Sagebrush Hamlet',\n",
       "       \"Predstava 'Hamleta' u Mrdusi Donjoj\",\n",
       "       'The Tragedy of Hamlet Prince of Denmark', 'Hamlet Unbound',\n",
       "       'Fuck Hamlet', 'Kadin Hamlet', 'Hamlet X'], dtype=object)"
      ]
     },
     "execution_count": 123,
     "metadata": {},
     "output_type": "execute_result"
    }
   ],
   "source": [
    "title_has_hamlet = cast_df.loc[cast_df[\"title\"].str.contains(\"Hamlet\")]\n",
    "\n",
    "title_has_hamlet[\"title\"].unique()\n"
   ]
  },
  {
   "cell_type": "markdown",
   "metadata": {},
   "source": [
    "# Question 2"
   ]
  },
  {
   "cell_type": "code",
   "execution_count": 124,
   "metadata": {
    "scrolled": false
   },
   "outputs": [
    {
     "data": {
      "text/html": [
       "<div>\n",
       "<style scoped>\n",
       "    .dataframe tbody tr th:only-of-type {\n",
       "        vertical-align: middle;\n",
       "    }\n",
       "\n",
       "    .dataframe tbody tr th {\n",
       "        vertical-align: top;\n",
       "    }\n",
       "\n",
       "    .dataframe thead th {\n",
       "        text-align: right;\n",
       "    }\n",
       "</style>\n",
       "<table border=\"1\" class=\"dataframe\">\n",
       "  <thead>\n",
       "    <tr style=\"text-align: right;\">\n",
       "      <th></th>\n",
       "      <th>year</th>\n",
       "      <th>title</th>\n",
       "    </tr>\n",
       "  </thead>\n",
       "  <tbody>\n",
       "    <tr>\n",
       "      <th>0</th>\n",
       "      <td>1918</td>\n",
       "      <td>Treasure Island</td>\n",
       "    </tr>\n",
       "    <tr>\n",
       "      <th>1</th>\n",
       "      <td>1920</td>\n",
       "      <td>Treasure Island</td>\n",
       "    </tr>\n",
       "    <tr>\n",
       "      <th>2</th>\n",
       "      <td>1934</td>\n",
       "      <td>Treasure Island</td>\n",
       "    </tr>\n",
       "    <tr>\n",
       "      <th>3</th>\n",
       "      <td>1938</td>\n",
       "      <td>The Secret of Treasure Island</td>\n",
       "    </tr>\n",
       "    <tr>\n",
       "      <th>4</th>\n",
       "      <td>1939</td>\n",
       "      <td>Charlie Chan at Treasure Island</td>\n",
       "    </tr>\n",
       "    <tr>\n",
       "      <th>5</th>\n",
       "      <td>1950</td>\n",
       "      <td>Treasure Island</td>\n",
       "    </tr>\n",
       "    <tr>\n",
       "      <th>6</th>\n",
       "      <td>1954</td>\n",
       "      <td>Return to Treasure Island</td>\n",
       "    </tr>\n",
       "    <tr>\n",
       "      <th>7</th>\n",
       "      <td>1957</td>\n",
       "      <td>Five on a Treasure Island</td>\n",
       "    </tr>\n",
       "    <tr>\n",
       "      <th>8</th>\n",
       "      <td>1972</td>\n",
       "      <td>Treasure Island</td>\n",
       "    </tr>\n",
       "    <tr>\n",
       "      <th>9</th>\n",
       "      <td>1973</td>\n",
       "      <td>Treasure Island</td>\n",
       "    </tr>\n",
       "    <tr>\n",
       "      <th>10</th>\n",
       "      <td>1985</td>\n",
       "      <td>Treasure Island</td>\n",
       "    </tr>\n",
       "    <tr>\n",
       "      <th>11</th>\n",
       "      <td>1996</td>\n",
       "      <td>Muppet Treasure Island</td>\n",
       "    </tr>\n",
       "    <tr>\n",
       "      <th>12</th>\n",
       "      <td>1999</td>\n",
       "      <td>Treasure Island</td>\n",
       "    </tr>\n",
       "    <tr>\n",
       "      <th>13</th>\n",
       "      <td>1999</td>\n",
       "      <td>Treasure Island (II)</td>\n",
       "    </tr>\n",
       "    <tr>\n",
       "      <th>14</th>\n",
       "      <td>2006</td>\n",
       "      <td>Pirates of Treasure Island</td>\n",
       "    </tr>\n",
       "    <tr>\n",
       "      <th>15</th>\n",
       "      <td>2006</td>\n",
       "      <td>Treasure Island Kids: The Battle of Treasure I...</td>\n",
       "    </tr>\n",
       "    <tr>\n",
       "      <th>16</th>\n",
       "      <td>2006</td>\n",
       "      <td>Treasure Island Kids: The Monster of Treasure ...</td>\n",
       "    </tr>\n",
       "    <tr>\n",
       "      <th>17</th>\n",
       "      <td>2006</td>\n",
       "      <td>Treasure Island Kids: The Mystery of Treasure ...</td>\n",
       "    </tr>\n",
       "    <tr>\n",
       "      <th>18</th>\n",
       "      <td>2015</td>\n",
       "      <td>National Theatre Live: Treasure Island</td>\n",
       "    </tr>\n",
       "  </tbody>\n",
       "</table>\n",
       "</div>"
      ],
      "text/plain": [
       "    year                                              title\n",
       "0   1918                                    Treasure Island\n",
       "1   1920                                    Treasure Island\n",
       "2   1934                                    Treasure Island\n",
       "3   1938                      The Secret of Treasure Island\n",
       "4   1939                    Charlie Chan at Treasure Island\n",
       "5   1950                                    Treasure Island\n",
       "6   1954                          Return to Treasure Island\n",
       "7   1957                          Five on a Treasure Island\n",
       "8   1972                                    Treasure Island\n",
       "9   1973                                    Treasure Island\n",
       "10  1985                                    Treasure Island\n",
       "11  1996                             Muppet Treasure Island\n",
       "12  1999                                    Treasure Island\n",
       "13  1999                               Treasure Island (II)\n",
       "14  2006                         Pirates of Treasure Island\n",
       "15  2006  Treasure Island Kids: The Battle of Treasure I...\n",
       "16  2006  Treasure Island Kids: The Monster of Treasure ...\n",
       "17  2006  Treasure Island Kids: The Mystery of Treasure ...\n",
       "18  2015             National Theatre Live: Treasure Island"
      ]
     },
     "execution_count": 124,
     "metadata": {},
     "output_type": "execute_result"
    }
   ],
   "source": [
    "treasure_island_movies = cast_df.loc[cast_df[\"title\"].str.contains(\"Treasure Island\")]\n",
    "\n",
    "\n",
    "treasure_island_movies_grouped = treasure_island_movies.groupby(\"title\")\n",
    "\n",
    "treasure_island_movies.groupby(['year','title']).sum().reset_index()[[\"year\",\"title\"]]"
   ]
  },
  {
   "cell_type": "markdown",
   "metadata": {},
   "source": [
    "# Question 3"
   ]
  },
  {
   "cell_type": "code",
   "execution_count": 152,
   "metadata": {},
   "outputs": [
    {
     "data": {
      "text/plain": [
       "9"
      ]
     },
     "execution_count": 152,
     "metadata": {},
     "output_type": "execute_result"
    }
   ],
   "source": [
    "filtered_hamlet = cast_df.loc[(cast_df[\"title\"].str.contains(\"Hamlet\")) & (cast_df[\"year\"] == 1921)]\n",
    "\n",
    "len(filtered_hamlet[\"character\"].unique())"
   ]
  },
  {
   "cell_type": "code",
   "execution_count": 151,
   "metadata": {
    "scrolled": true
   },
   "outputs": [
    {
     "data": {
      "text/plain": [
       "9"
      ]
     },
     "execution_count": 151,
     "metadata": {},
     "output_type": "execute_result"
    }
   ],
   "source": [
    "len(cast_df.query('year ==1921 & title.str.contains(\"Hamlet\").values')[\"character\"].unique())"
   ]
  },
  {
   "cell_type": "markdown",
   "metadata": {},
   "source": [
    "# Question 4"
   ]
  },
  {
   "cell_type": "code",
   "execution_count": 356,
   "metadata": {},
   "outputs": [
    {
     "data": {
      "text/plain": [
       "<matplotlib.axes._subplots.AxesSubplot at 0x121769a30>"
      ]
     },
     "execution_count": 356,
     "metadata": {},
     "output_type": "execute_result"
    },
    {
     "data": {
      "image/png": "[encoded data removed]",
      "text/plain": [
       "<Figure size 432x288 with 1 Axes>"
      ]
     },
     "metadata": {
      "needs_background": "light"
     },
     "output_type": "display_data"
    }
   ],
   "source": [
    "\n",
    "hamlet_movies = title_has_hamlet.copy()\n",
    "hamlet_movies_by_decade = hamlet_movies[['year','title']].drop_duplicates().groupby([(hamlet_movies.year //10) * 10])\n",
    "\n",
    "\n",
    "aggregated_movies = hamlet_movies_by_decade[\"title\"].value_counts().to_frame().groupby(\"year\").sum()\n",
    "\n",
    "\n",
    "aggregated_movies.reset_index().rename(columns={'title' : 'amount of hamlet movies', 'year':'decade'}).plot.bar(x='decade',y='amount of hamlet movies')\n"
   ]
  }
 ],
 "metadata": {
  "kernelspec": {
   "display_name": "Python 3",
   "language": "python",
   "name": "python3"
  },
  "language_info": {
   "codemirror_mode": {
    "name": "ipython",
    "version": 3
   },
   "file_extension": ".py",
   "mimetype": "text/x-python",
   "name": "python",
   "nbconvert_exporter": "python",
   "pygments_lexer": "ipython3",
   "version": "3.8.3"
  }
 },
 "nbformat": 4,
 "nbformat_minor": 4
}
